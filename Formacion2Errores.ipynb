{
 "cells": [
  {
   "cell_type": "markdown",
   "id": "80809d31-b901-4d41-8f47-786aef707363",
   "metadata": {},
   "source": [
    "# Errores en la determinación de la posición\n",
    "## Ejemplo con 2 agentes\n",
    "Posiciones iniciales\n",
    "1. Agente 1 (1,1)\n",
    "2. Agente 2 (5,1)\n",
    "\n",
    "Consideraré que el agente 1 mide sin error y el agente 2 mide con error las posiciones"
   ]
  },
  {
   "cell_type": "code",
   "execution_count": 1,
   "id": "7406a79c-ae9e-4937-86db-729a38bd56ab",
   "metadata": {},
   "outputs": [
    {
     "ename": "ModuleNotFoundError",
     "evalue": "No module named 'RobotModels'",
     "output_type": "error",
     "traceback": [
      "Traceback \u001b[0;36m(most recent call last)\u001b[0m:\n",
      "\u001b[0;36m  Cell \u001b[0;32mIn[1], line 1\u001b[0;36m\n\u001b[0;31m    import RobotModels as rob\u001b[0;36m\n",
      "\u001b[0;31mModuleNotFoundError\u001b[0m\u001b[0;31m:\u001b[0m No module named 'RobotModels'\n"
     ]
    }
   ],
   "source": [
    "import RobotModels as rob\n",
    "import numpy as np\n",
    "import matplotlib.pyplot as plt\n",
    "import graph_utils as graf\n",
    "\n",
    "#Posiciones iniciales\n",
    "pi=np.array([[1,1],[5,1]])\n",
    "p=np.zeros([2,2])\n",
    "#Formacion\n",
    "zstar=np.array([3,0])\n",
    "#Grafo\n",
    "Z=np.array([1,2])\n",
    "\n",
    "p=pi\n",
    "a1=0.5\n",
    "a2=1\n",
    "dt=0.1\n",
    "n=100\n",
    "p1=np.zeros([n,2])\n",
    "p1[0,:]=pi[0,:]\n",
    "p2=np.zeros([n,2])\n",
    "p2[0,:]=pi[1,:]\n",
    "p1dot=np.zeros([1,2])\n",
    "p2dot=np.zeros([1,2])\n",
    "for i in range(n):\n",
    "    p1dot=-(a1*(p[0,:]-p[1,:])-zstar)\n",
    "    x1dot,y1dot,theta1dot=rob.integrator_point_model(p1dot[0],p1dot[1])\n",
    "    p1[i+1,0]=p1[i,0]+h*x1dot\n",
    "    p1[i+1,1]=p1[i,1]+h*y1dot\n",
    "    p2dot=a2*(p[0,:]-p[1,:])-zstar\n",
    "    x2dot,y2dot,theta2dot=rob.integrator_point_model(p2dot[0],p2dot[1])\n",
    "    p2[i+1,0]=p2[i,0]+h*x2dot\n",
    "    p2[i+1,1]=p2[i,1]+h*y2dot\n",
    "plt.plot(p1[:,0],p1[:,1],'b.')\n",
    "plt.plot(p2[:,0],p2[:,1],'r.')\n",
    "plt.grid()\n",
    "plt.show()"
   ]
  }
 ],
 "metadata": {
  "kernelspec": {
   "display_name": "Python 3 (Spyder)",
   "language": "python3",
   "name": "python3"
  },
  "language_info": {
   "codemirror_mode": {
    "name": "ipython",
    "version": 3
   },
   "file_extension": ".py",
   "mimetype": "text/x-python",
   "name": "python",
   "nbconvert_exporter": "python",
   "pygments_lexer": "ipython3",
   "version": "3.9.18"
  }
 },
 "nbformat": 4,
 "nbformat_minor": 5
}
