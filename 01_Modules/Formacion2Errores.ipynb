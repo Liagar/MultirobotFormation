{
 "cells": [
  {
   "cell_type": "markdown",
   "id": "55ad3227",
   "metadata": {},
   "source": [
    "# Errores en la determinación de la posición\n",
    "## Ejemplo con 2 agentes\n",
    "Posiciones iniciales\n",
    "1. Agente 1 (1,1)\n",
    "2. Agente 2 (5,1)\n",
    "\n",
    "Consideraré que el agente 1 mide sin error y el agente 2 mide con error las posiciones"
   ]
  },
  {
   "cell_type": "code",
   "execution_count": 1,
   "id": "7798a6cc",
   "metadata": {},
   "outputs": [
    {
     "name": "stderr",
     "output_type": "stream",
     "text": [
      "Traceback (most recent call last):\n",
      "  File \"/home/lia/anaconda3/lib/python3.9/site-packages/matplotlib/cbook.py\", line 298, in process\n",
      "    func(*args, **kwargs)\n",
      "  File \"/home/lia/anaconda3/lib/python3.9/site-packages/matplotlib/animation.py\", line 916, in _start\n",
      "    self.event_source.add_callback(self._step)\n",
      "AttributeError: 'NoneType' object has no attribute 'add_callback'\n"
     ]
    }
   ],
   "source": [
    "import RobotModels as rob\n",
    "import numpy as np\n",
    "import matplotlib.pyplot as plt\n",
    "import graph_utils as graf\n",
    "import time\n",
    "from matplotlib import animation\n",
    "from matplotlib.animation import FuncAnimation\n",
    "from matplotlib.animation import PillowWriter\n",
    "import robot_plot_utils as rpu\n",
    "\n",
    "#Posiciones iniciales\n",
    "pi=np.array([[1,1],[5,3]])\n",
    "p=np.zeros([2,2])\n",
    "#Formacion\n",
    "zstar=np.array([-5,-5])\n",
    "#Grafo\n",
    "Z=np.array([1,2])\n",
    "fig= plt.figure()\n",
    "p=pi\n",
    "a1=0.5\n",
    "a2=1\n",
    "h=0.1\n",
    "n=100\n",
    "p1=np.zeros([n,2])\n",
    "p1[0,:]=pi[0,:]\n",
    "p2=np.zeros([n,2])\n",
    "p2[0,:]=pi[1,:]\n",
    "p1dot=np.zeros([1,2])\n",
    "p2dot=np.zeros([1,2])\n",
    " # style for plotting line\n",
    "# set limit for x and y axis\n",
    "axis =plt.axes(xlim=(-10,10),ylim=(-10,10))\n",
    "\n",
    "agente1, = axis.plot([],[],c='b')\n",
    "agente2, = axis.plot([],[],c='r')\n",
    "def init():\n",
    "    agente1.set_data([],[])\n",
    "    agente2.set_data([],[])\n",
    "    return agente1, agente2\n",
    "    \n",
    "for i in range(n-1):\n",
    "    p1dot=-(a1*(p1[i,:]-p2[i,:])-zstar)\n",
    "    x1dot,y1dot,theta1dot=rob.integrator_point_model(p1dot[0],p1dot[1])\n",
    "    p1[i+1,0]=p1[i,0]+h*x1dot\n",
    "    p1[i+1,1]=p1[i,1]+h*y1dot\n",
    "    p2dot=-(a2*(p2[i,:]-p1[i,:])+zstar)\n",
    "    x2dot,y2dot,theta2dot=rob.integrator_point_model(p2dot[0],p2dot[1])\n",
    "    p2[i+1,0]=p2[i,0]+h*x2dot\n",
    "    p2[i+1,1]=p2[i,1]+h*y2dot\n",
    "\n",
    "x1, y1, x2, y2 = [], [], [], []\n",
    "\n",
    "def animate(i):\n",
    "    x1.append((p1[i,0]))\n",
    "    y1.append((p1[i,1]))\n",
    "    x2.append((p2[i,0]))\n",
    "    y2.append((p2[i,1]))\n",
    "    agente1.set_data(x1,y1)\n",
    "    agente2.set_data(x2,y2)\n",
    "    return (agente1, agente2)\n",
    "    #axes.plot(x1,y1,color=\"blue\")\n",
    "    #axes.plot(x2,y2,color=\"red\")\n",
    "\n",
    "anim = FuncAnimation(fig=fig,func=animate,init_func=init,frames=100,interval=30,blit=True)\n",
    "# converting to an html5 video \n",
    "videowriter = PillowWriter(fps=30)\n",
    "\n",
    "anim.save(\"prueba.gif\", writer=videowriter)\n",
    "  \n",
    "# draw the animation \n",
    "#display.display(html) \n",
    "plt.show()\n",
    "plt.close() "
   ]
  },
  {
   "cell_type": "markdown",
   "id": "9de634cd",
   "metadata": {},
   "source": [
    "Vamos ahora a replicar el ejemplo del paper de Héctor con 9 agentes\n"
   ]
  },
  {
   "cell_type": "code",
   "execution_count": 2,
   "id": "6ffb1b22",
   "metadata": {},
   "outputs": [
    {
     "name": "stdout",
     "output_type": "stream",
     "text": [
      "[[1.19823752 1.4281975  1.15961718 0.609523   1.49408509 1.0600956\n",
      "  0.58294864 0.64893367 1.47512417]]\n",
      "[[ 0.14011    -0.11795633 -0.03253492  0.09393698  0.02835499  0.09051964\n",
      "   0.05888718  0.06018328  0.09375331]]\n"
     ]
    }
   ],
   "source": [
    "#Posiciones iniciales\n",
    "pi=np.array([[-10,-10],[-10,0],[-10 ,10],[0,10],[0,0],[0,-10],[10,-10],[10,0],[10,10]])\n",
    "p=np.zeros([2,9])\n",
    "numnodos,m=np.shape(pi)\n",
    "#Formacion\n",
    "zstar=np.array([-5,-5])\n",
    "#Grafo\n",
    "Z=np.array([[1,2],[2,3],[3,4],[4,5],[5,6],[5,8],[8,7],[8,9]])\n",
    "numarcos,m=np.shape(Z)\n",
    "# Scale factors\n",
    "var=0.5\n",
    "a = 1+2*var*np.random.rand(1,9)-var*np.ones([1,9])\n",
    "#a=np.ones([1,9])\n",
    "print(a)\n",
    "#Misalignments in radians\n",
    "rm=10*np.pi/180\n",
    "#rm=0\n",
    "r=np.zeros([1,9])\n",
    "r=2*rm*np.random.rand(1,9)-rm*np.ones([1,9])\n",
    "print(r)\n",
    "n,m= np.shape(pi)\n",
    "for i in range(n):\n",
    "    plt.plot(pi[i,0],pi[i,1],'o')\n",
    "\n",
    "rpu.dibuja_grafo_2D(pi,Z)"
   ]
  },
  {
   "cell_type": "code",
   "execution_count": 3,
   "id": "d3300f8f",
   "metadata": {},
   "outputs": [],
   "source": [
    "m,n=np.shape(a)\n",
    "Da=np.diag(a[0,:])\n",
    "#print(Da)\n",
    "j=0\n",
    "k=0\n",
    "DR=np.zeros([n*2,2*n])\n",
    "for i in range(0,2*n,2):\n",
    "    DR[j,i]=np.cos(r[0,k])\n",
    "    DR[j,i+1]=-np.sin(r[0,k])\n",
    "    DR[j+1,i]=np.sin(r[0,k])\n",
    "    DR[j+1,i+1]=np.cos(r[0,k])\n",
    "    j+=2\n",
    "    k+=1\n"
   ]
  },
  {
   "cell_type": "markdown",
   "id": "6366df92",
   "metadata": {},
   "source": [
    "Construimos la matriz Dx $D_x=D_a \\otimes I_m \\dot D_R$"
   ]
  },
  {
   "cell_type": "code",
   "execution_count": 4,
   "id": "97034ecd",
   "metadata": {},
   "outputs": [
    {
     "name": "stdout",
     "output_type": "stream",
     "text": [
      "L: \n",
      "[[ 1. -1.  0.  0.  0.  0.  0.  0.  0.]\n",
      " [-1.  2. -1.  0.  0.  0.  0.  0.  0.]\n",
      " [ 0. -1.  2. -1.  0.  0.  0.  0.  0.]\n",
      " [ 0.  0. -1.  2. -1.  0.  0.  0.  0.]\n",
      " [ 0.  0.  0. -1.  3. -1.  0. -1.  0.]\n",
      " [ 0.  0.  0.  0. -1.  1.  0.  0.  0.]\n",
      " [ 0.  0.  0.  0.  0.  0.  1. -1.  0.]\n",
      " [ 0.  0.  0.  0. -1.  0. -1.  3. -1.]\n",
      " [ 0.  0.  0.  0.  0.  0.  0. -1.  1.]]\n",
      "10000\n"
     ]
    },
    {
     "ename": "ValueError",
     "evalue": "setting an array element with a sequence.",
     "output_type": "error",
     "traceback": [
      "\u001b[0;31mTypeError\u001b[0m\u001b[0;31m:\u001b[0m only length-1 arrays can be converted to Python scalars\n",
      "\nThe above exception was the direct cause of the following exception:\n",
      "Traceback \u001b[0;36m(most recent call last)\u001b[0m:\n",
      "\u001b[0;36m  Cell \u001b[0;32mIn[4], line 34\u001b[0;36m\n\u001b[0;31m    p[i]+=dt*xdot\u001b[0;36m\n",
      "\u001b[0;31mValueError\u001b[0m\u001b[0;31m:\u001b[0m setting an array element with a sequence.\n"
     ]
    }
   ],
   "source": [
    "Im=np.eye(2)\n",
    "Da_bar=np.kron(Da,Im)\n",
    "i=n*4\n",
    "#print(np.shape(DR))\n",
    "#print(Dr)\n",
    "Dx=np.dot(Da_bar,DR)\n",
    "#print(np.shape(Dx))\n",
    "pesos=np.ones([numnodos,numnodos])\n",
    "L=graf.matriz_laplaciana(Z,pesos,numnodos,numarcos)\n",
    "print(\"L: \")\n",
    "print(L)\n",
    "Lbar=np.kron(L,Im)\n",
    "M=-np.dot(Dx,Lbar)\n",
    "p=np.zeros([2*n,1])\n",
    "#print(np.shape(p))\n",
    "rm=20\n",
    "pstar=graf.stack(pi)\n",
    "t=0\n",
    "tf=100\n",
    "dt=0.01\n",
    "nptos=(int)((tf-t)/dt)\n",
    "print(nptos)\n",
    "fig2 =plt.figure()\n",
    "p=2*rm*np.random.rand(2*n)-rm*np.ones(2*n)\n",
    "posiciones=np.zeros([2*n , nptos])\n",
    "k=0\n",
    "Lps=np.dot(Lbar,pstar)\n",
    "#print(Lps)\n",
    "#Revisar: Los 5 primeros salen bien pero el resto no\n",
    "for k in range(nptos):\n",
    "    pdot=np.dot(M,p)+Lps\n",
    "    for i in range(0,2*n,2):\n",
    "        xdot,ydot,thetadot=rob.integrator_point_model(pdot[i],pdot[i+1])\n",
    "        p[i]+=dt*xdot\n",
    "        p[i+1]+=dt*ydot\n",
    "    posiciones[:,k]=p[:]\n",
    "    t+=dt\n",
    "print(posiciones[:,k])\n",
    "colors_f=['bo','go','ro','co','yo','mo','ko','bo','go']\n",
    "colors_i=['bx','gx','rx','cx','yx','mx','kx','bx','gx']\n",
    "colors_l=['b','g','r','c','y','m','k','b:','g:']\n",
    "Z=np.array([[1,2],[2,3],[3,4],[4,5],[5,6],[5,8],[8,7],[8,9]])\n",
    "j=0\n",
    "for i in range(n):\n",
    "    plt.plot(posiciones[j,0],posiciones[j+1,0],colors_i[i])\n",
    "    plt.plot(posiciones[j,nptos-1],posiciones[j+1,nptos-1],colors_f[i])\n",
    "    plt.plot(posiciones[j,:],posiciones[j+1,:],colors_l[i])\n",
    "    j=j+2\n",
    "#rpu.dibuja_grafo_2D(pi,Z)\n",
    "pfs=np.zeros([2*n,1])\n",
    "pfs[:,0]=posiciones[:,nptos-1]\n",
    "pinis=np.zeros([2*n,1])\n",
    "pinis[:,0]=posiciones[:,0]\n",
    "#print(pfs)\n",
    "pf=graf.unstack(pfs,2)\n",
    "pini=graf.unstack(pinis,2)\n",
    "#print(pf)\n",
    "rpu.dibuja_grafo_2D(pf,Z)\n",
    "rpu.dibuja_grafo_2D(pini,Z)\n",
    "plt.show()"
   ]
  },
  {
   "cell_type": "code",
   "execution_count": null,
   "id": "d7d23a0a",
   "metadata": {},
   "outputs": [],
   "source": []
  },
  {
   "cell_type": "code",
   "execution_count": null,
   "id": "6ceb39f7",
   "metadata": {},
   "outputs": [],
   "source": []
  }
 ],
 "metadata": {
  "kernelspec": {
   "display_name": "Python 3 (Spyder)",
   "language": "python3",
   "name": "python3"
  },
  "language_info": {
   "codemirror_mode": {
    "name": "ipython",
    "version": 3
   },
   "file_extension": ".py",
   "mimetype": "text/x-python",
   "name": "python",
   "nbconvert_exporter": "python",
   "pygments_lexer": "ipython3",
   "version": "3.9.18"
  }
 },
 "nbformat": 4,
 "nbformat_minor": 5
}
