{
 "cells": [
  {
   "cell_type": "markdown",
   "id": "80809d31-b901-4d41-8f47-786aef707363",
   "metadata": {},
   "source": [
    "# Errores en la determinación de la posición\n",
    "## Ejemplo con 2 agentes\n",
    "Posiciones iniciales\n",
    "1. Agente 1 (1,1)\n",
    "2. Agente 2 (5,1)\n",
    "\n",
    "Consideraré que el agente 1 mide sin error y el agente 2 mide con error las posiciones"
   ]
  },
  {
   "cell_type": "code",
   "execution_count": 1,
   "id": "7406a79c-ae9e-4937-86db-729a38bd56ab",
   "metadata": {},
   "outputs": [
    {
     "data": {
      "image/png": "[encoded data removed]",
      "text/plain": [
       "<Figure size 432x288 with 1 Axes>"
      ]
     },
     "metadata": {},
     "output_type": "display_data"
    }
   ],
   "source": [
    "import RobotModels as rob\n",
    "import numpy as np\n",
    "import matplotlib.pyplot as plt\n",
    "import graph_utils as graf\n",
    "import time\n",
    "from matplotlib import animation\n",
    "from matplotlib.animation import FuncAnimation\n",
    "from matplotlib.animation import PillowWriter\n",
    "import robot_plot_utils as rpu\n",
    "\n",
    "#Posiciones iniciales\n",
    "pi=np.array([[1,1],[5,3]])\n",
    "p=np.zeros([2,2])\n",
    "#Formacion\n",
    "zstar=np.array([-5,-5])\n",
    "#Grafo\n",
    "Z=np.array([1,2])\n",
    "fig= plt.figure()\n",
    "p=pi\n",
    "a1=0.5\n",
    "a2=1\n",
    "h=0.1\n",
    "n=100\n",
    "p1=np.zeros([n,2])\n",
    "p1[0,:]=pi[0,:]\n",
    "p2=np.zeros([n,2])\n",
    "p2[0,:]=pi[1,:]\n",
    "p1dot=np.zeros([1,2])\n",
    "p2dot=np.zeros([1,2])\n",
    " # style for plotting line\n",
    "# set limit for x and y axis\n",
    "axis =plt.axes(xlim=(-10,10),ylim=(-10,10))\n",
    "\n",
    "agente1, = axis.plot([],[],c='b')\n",
    "agente2, = axis.plot([],[],c='r')\n",
    "def init():\n",
    "    agente1.set_data([],[])\n",
    "    agente2.set_data([],[])\n",
    "    return agente1, agente2\n",
    "    \n",
    "for i in range(n-1):\n",
    "    p1dot=-(a1*(p1[i,:]-p2[i,:])-zstar)\n",
    "    x1dot,y1dot,theta1dot=rob.integrator_point_model(p1dot[0],p1dot[1])\n",
    "    p1[i+1,0]=p1[i,0]+h*x1dot\n",
    "    p1[i+1,1]=p1[i,1]+h*y1dot\n",
    "    p2dot=-(a2*(p2[i,:]-p1[i,:])+zstar)\n",
    "    x2dot,y2dot,theta2dot=rob.integrator_point_model(p2dot[0],p2dot[1])\n",
    "    p2[i+1,0]=p2[i,0]+h*x2dot\n",
    "    p2[i+1,1]=p2[i,1]+h*y2dot\n",
    "\n",
    "x1, y1, x2, y2 = [], [], [], []\n",
    "\n",
    "def animate(i):\n",
    "    x1.append((p1[i,0]))\n",
    "    y1.append((p1[i,1]))\n",
    "    x2.append((p2[i,0]))\n",
    "    y2.append((p2[i,1]))\n",
    "    agente1.set_data(x1,y1)\n",
    "    agente2.set_data(x2,y2)\n",
    "    return (agente1, agente2)\n",
    "    #axes.plot(x1,y1,color=\"blue\")\n",
    "    #axes.plot(x2,y2,color=\"red\")\n",
    "\n",
    "anim = FuncAnimation(fig=fig,func=animate,init_func=init,frames=100,interval=30,blit=True)\n",
    "# converting to an html5 video \n",
    "videowriter = PillowWriter(fps=30)\n",
    "\n",
    "anim.save(\"prueba.gif\", writer=videowriter)\n",
    "  \n",
    "# draw the animation \n",
    "#display.display(html) \n",
    "plt.show()\n",
    "plt.close() "
   ]
  },
  {
   "cell_type": "markdown",
   "id": "70c74ffd-dcb7-4bde-977e-dd4e5eaff19c",
   "metadata": {},
   "source": [
    "Vamos ahora a replicar el ejemplo del paper de Héctor con 9 agentes\n"
   ]
  },
  {
   "cell_type": "code",
   "execution_count": 2,
   "id": "6d441240-6410-4f38-b3d5-92fac05053e3",
   "metadata": {},
   "outputs": [
    {
     "data": {
      "image/png": "[encoded data removed]",
      "text/plain": [
       "<Figure size 432x288 with 1 Axes>"
      ]
     },
     "metadata": {},
     "output_type": "display_data"
    }
   ],
   "source": [
    "#Posiciones iniciales\n",
    "pi=np.array([[-10,-10],[-10,0],[-10 ,10],[0,10],[0,0],[0,-10],[10,-10],[10,0],[10,10]])\n",
    "p=np.zeros([2,9])\n",
    "numnodos,m=np.shape(pi)\n",
    "#Formacion\n",
    "zstar=np.array([-5,-5])\n",
    "#Grafo\n",
    "Z=np.array([[1,2],[2,3],[3,4],[4,5],[5,6],[5,8],[8,7],[8,9]])\n",
    "numarcos,m=np.shape(Z)\n",
    "# Scale factors\n",
    "a = np.random.rand(1,9)\n",
    "#print(a)\n",
    "#Misalignments in radians\n",
    "rm=10*np.pi/180\n",
    "r=np.zeros([1,9])\n",
    "r=2*rm*np.random.rand(1,9)-rm*np.ones([1,9])\n",
    "#print(r)\n",
    "n,m= np.shape(pi)\n",
    "for i in range(n):\n",
    "    plt.plot(pi[i,0],pi[i,1],'o')\n",
    "\n",
    "rpu.dibuja_grafo_2D(pi,Z)"
   ]
  },
  {
   "cell_type": "code",
   "execution_count": 18,
   "id": "70aff009-7b58-46aa-bda1-f01a2051e1d1",
   "metadata": {},
   "outputs": [],
   "source": [
    "m,n=np.shape(a)\n",
    "Da=np.diag(a[0,:])\n",
    "#print(Da)\n",
    "j=0\n",
    "R=np.zeros([n*2,2])\n",
    "for i in range(n):\n",
    "    R[j,0]=np.cos(r[0,i])\n",
    "    R[j,1]=np.sin(r[0,i])\n",
    "    R[j+1,0]=-np.sin(r[0,i])\n",
    "    R[j+1,1]=np.cos(r[0,i])\n",
    "    j+=2\n",
    "Rt=np.transpose(R)"
   ]
  },
  {
   "cell_type": "markdown",
   "id": "58ed0548-08dd-4710-8ee5-ce3a68684ddf",
   "metadata": {},
   "source": [
    "Construimos la matriz Dx $D_x=D_a \\otimes I_m \\dot D_R$"
   ]
  },
  {
   "cell_type": "code",
   "execution_count": 19,
   "id": "e99ae7bd-8ab0-49d0-a1d8-49b03bf4a8ae",
   "metadata": {},
   "outputs": [
    {
     "name": "stdout",
     "output_type": "stream",
     "text": [
      "[[ 0.99577268 -0.09185194  0.99992754 -0.01203781  0.99782371 -0.0659382\n",
      "   0.98955028  0.14418819  0.99967397  0.02553344  0.99190301  0.1269977\n",
      "   0.99974797  0.02244967  0.99746025  0.07122538  0.99719451  0.07485397\n",
      "   0.          0.          0.          0.          0.          0.\n",
      "   0.          0.          0.          0.          0.          0.\n",
      "   0.          0.          0.          0.          0.          0.        ]\n",
      " [ 0.          0.          0.          0.          0.          0.\n",
      "   0.          0.          0.          0.          0.          0.\n",
      "   0.          0.          0.          0.          0.          0.\n",
      "   0.09185194  0.99577268  0.01203781  0.99992754  0.0659382   0.99782371\n",
      "  -0.14418819  0.98955028 -0.02553344  0.99967397 -0.1269977   0.99190301\n",
      "  -0.02244967  0.99974797 -0.07122538  0.99746025 -0.07485397  0.99719451]]\n"
     ]
    },
    {
     "ename": "ValueError",
     "evalue": "shapes (18,18) and (2,36) not aligned: 18 (dim 1) != 2 (dim 0)",
     "output_type": "error",
     "traceback": [
      "Traceback \u001b[0;36m(most recent call last)\u001b[0m:\n",
      "\u001b[0m  Cell \u001b[1;32mIn[19], line 8\u001b[0m\n    Dx=np.dot(Da_bar,Dr)\u001b[0m\n",
      "\u001b[0;36m  File \u001b[0;32m<__array_function__ internals>:200\u001b[0;36m in \u001b[0;35mdot\u001b[0;36m\n",
      "\u001b[0;31mValueError\u001b[0m\u001b[0;31m:\u001b[0m shapes (18,18) and (2,36) not aligned: 18 (dim 1) != 2 (dim 0)\n"
     ]
    }
   ],
   "source": [
    "Im=np.eye(2)\n",
    "Da_bar=np.kron(Da,Im)\n",
    "i=n*4\n",
    "Dr=np.zeros([2,i])\n",
    "Dr[0,0:2*n]=Rt[0,:]\n",
    "Dr[1,2*n:i]=Rt[1,:]\n",
    "#print(Dr)\n",
    "Dx=np.dot(Da_bar,Dr)\n",
    "#print(Dx)\n",
    "pesos=np.ones([numnodos,numnodos])\n",
    "L=graf.matriz_laplaciana(Z,pesos,numnodos,numarcos)\n",
    "#print(L)\n",
    "Lbar=np.kron(L,Im)\n",
    "M=-np.dot(Dx,Lbar)\n",
    "pstack=graf_utils.stack(pi)\n",
    "#pdot=np.dot(M,p)^"
   ]
  }
 ],
 "metadata": {
  "kernelspec": {
   "display_name": "Python 3 (Spyder)",
   "language": "python3",
   "name": "python3"
  },
  "language_info": {
   "codemirror_mode": {
    "name": "ipython",
    "version": 3
   },
   "file_extension": ".py",
   "mimetype": "text/x-python",
   "name": "python",
   "nbconvert_exporter": "python",
   "pygments_lexer": "ipython3",
   "version": "3.11.5"
  }
 },
 "nbformat": 4,
 "nbformat_minor": 5
}
