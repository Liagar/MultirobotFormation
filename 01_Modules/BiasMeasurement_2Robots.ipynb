{
 "cells": [
  {
   "cell_type": "markdown",
   "id": "c5aedd97-3352-4314-9535-ed058c334076",
   "metadata": {},
   "source": [
    "# Explorando las formaciones frente a errores en la percepción\n",
    "## A partir de \"Maneuvering and robustness issues in undirecter displacemente-consensus-based formation control\" de Héctor García de Marina\n",
    "En el artículo se modelan los errores en la percepción como un error de escalado y una matriz de rotación que representan un alineado incorrecto en la medida de las posiciones.\n",
    "$$ (p_i-p_j)_{measurement}=aR(p_i-p_j)$$\n",
    "$$ a \\in \\mathcal{R}, R \\in \\mathcal{SO}(m)$$\n",
    "\n",
    "### Carga de módulos necesarios"
   ]
  },
  {
   "cell_type": "code",
   "execution_count": 2,
   "id": "58170cc1-4901-4225-847c-cb3c61e8d017",
   "metadata": {},
   "outputs": [],
   "source": [
    "import RobotModels as rob\n",
    "import numpy as np\n",
    "import matplotlib.pyplot as plt\n",
    "import graph_utils as graf\n",
    "import time\n",
    "from matplotlib import animation\n",
    "from matplotlib.animation import FuncAnimation\n",
    "from matplotlib.animation import PillowWriter\n",
    "import robot_plot_utils as rpu"
   ]
  },
  {
   "cell_type": "markdown",
   "id": "c5e7492a-8690-42ff-b360-c3954e75e368",
   "metadata": {},
   "source": [
    "## Formación inicial con 2 agentes\n",
    "Generación de las posiciones iniciales y el grafo."
   ]
  },
  {
   "cell_type": "code",
   "execution_count": 34,
   "id": "58cf052b-7941-4369-b4ed-0ba2b9e00403",
   "metadata": {},
   "outputs": [
    {
     "name": "stdout",
     "output_type": "stream",
     "text": [
      "Lbar: \n",
      "[[ 1.  0. -1. -0.]\n",
      " [ 0.  1. -0. -1.]\n",
      " [-1. -0.  1.  0.]\n",
      " [-0. -1.  0.  1.]]\n",
      "[[0.         0.49135802]\n",
      " [0.64014747 0.        ]]\n"
     ]
    },
    {
     "name": "stderr",
     "output_type": "stream",
     "text": [
      "/tmp/ipykernel_51379/3871593167.py:28: DeprecationWarning: Conversion of an array with ndim > 0 to a scalar is deprecated, and will error in future. Ensure you extract a single element from your array before performing this operation. (Deprecated NumPy 1.25.)\n",
      "  b[i-1,j-1]=np.random.rand(1,1)\n",
      "/tmp/ipykernel_51379/3871593167.py:29: DeprecationWarning: Conversion of an array with ndim > 0 to a scalar is deprecated, and will error in future. Ensure you extract a single element from your array before performing this operation. (Deprecated NumPy 1.25.)\n",
      "  b[j-1,i-1]=np.random.rand(1,1)\n"
     ]
    },
    {
     "name": "stdout",
     "output_type": "stream",
     "text": [
      "[-10.   0.   0.   0.]\n"
     ]
    }
   ],
   "source": [
    "#Posiciones iniciales\n",
    "pi=np.array([[-10,0],[10,0]])\n",
    "p=np.zeros([2,2])\n",
    "numnodos,m=np.shape(pi)\n",
    "#Formacion\n",
    "#zstar=np.array([-5,-5])\n",
    "#Grafo\n",
    "Z=np.array([[1,2]])\n",
    "numarcos,m=np.shape(Z)\n",
    "n,m= np.shape(pi)\n",
    "for i in range(n):\n",
    "    plt.plot(pi[i,0],pi[i,1],'o')\n",
    "\n",
    "rpu.dibuja_grafo_2D(pi,Z)\n",
    "\n",
    "Im=np.eye(2)\n",
    "pesos=np.ones([numnodos,numnodos])\n",
    "L=graf.matriz_laplaciana(Z,pesos,numnodos,numarcos)\n",
    "\n",
    "Lbar=np.kron(L,Im)\n",
    "print(\"Lbar: \")\n",
    "print(Lbar)\n",
    "\n",
    "b=np.zeros([numnodos,numnodos])\n",
    "for k in range(numarcos):\n",
    "    i=Z[k,0]\n",
    "    j=Z[k,1]\n",
    "    b[i-1,j-1]=np.random.rand(1,1)\n",
    "    b[j-1,i-1]=np.random.rand(1,1)\n",
    "    #b[i-1,j-1]=1\n",
    "print(b)\n",
    "\n",
    "p=np.zeros([2*n,1])\n",
    "#print(np.shape(p))\n",
    "pstar_s=graf.stack(pi)\n",
    "pstar=pi\n",
    "t=0\n",
    "tf=100\n",
    "dt=0.01\n",
    "nptos=(int)((tf-t)/dt)\n",
    "#print(nptos)\n",
    "fig2 =plt.figure()\n",
    "p=np.array([[-10,0],[10,0]])\n",
    "posiciones=np.zeros([2*n , nptos])\n",
    "k=0\n",
    "#print( p)\n",
    "pmeasured=np.zeros([2,2])\n",
    "pmeasured[0,:]=p[1,:]-p[0,:]+b[0,1]*np.ones([1,2])\n",
    "pmeasured[1,:]=p[0,:]-p[1,:]+b[1,0]*np.ones([1,2])\n",
    "#print(pmeasured)\n",
    "\n",
    "for k in range(nptos):\n",
    "    pmeasured_s=graf.stack(pmeasured)\n",
    "    #print(\"Pmeasured:\")\n",
    "    #print(pmeasured_s)   \n",
    "    pdot=-np.dot(Lbar,pmeasured_s)\n",
    "    #print(\"Pdot: \")\n",
    "    #print(pdot)\n",
    "    for i in range(0,numnodos,1):\n",
    "        xdot,ydot,thetadot=rob.integrator_point_model(pdot[i],pdot[i+1])\n",
    "        p[i,0]+=dt*xdot\n",
    "        p[i,1]+=dt*ydot\n",
    "    pmeasured[0,:]=p[1,:]-p[0,:]+b[0,1]*np.ones([1,2])\n",
    "    #pmeasured[1,:]=p[0,:]-p[1,:]+b[1,0]*np.ones([1,2])\n",
    "    pmeasured[1,:]=p[0,:]-p[1,:]\n",
    "    p_s=graf.stack(p)\n",
    "    posiciones[:,k]=p_s[:]\n",
    "    t+=dt\n",
    "print(posiciones[:,k])\n",
    "colors_f=['bo','go','ro','co','yo','mo','ko','bo','go']\n",
    "colors_i=['bx','gx','rx','cx','yx','mx','kx','bx','gx']\n",
    "colors_l=['b.','g.','r','c','y','m','k','b:','g:']\n",
    "\n",
    "j=0\n",
    "for i in range(numnodos):\n",
    "    plt.plot(posiciones[j,0],posiciones[j+1,0],colors_i[i])\n",
    "    plt.plot(posiciones[j,nptos-1],posiciones[j+1,nptos-1],colors_f[i])\n",
    "    plt.plot(posiciones[j,:],posiciones[j+1,:],colors_l[i])\n",
    "    j=j+2\n",
    "plt.grid()"
   ]
  },
  {
   "cell_type": "code",
   "execution_count": 8,
   "id": "342e4be1-dc6b-4e38-88a3-50018006bf16",
   "metadata": {},
   "outputs": [
    {
     "ename": "SyntaxError",
     "evalue": "invalid syntax (2432617857.py, line 6)",
     "output_type": "error",
     "traceback": [
      "\u001b[0;36m  Cell \u001b[0;32mIn[8], line 6\u001b[0;36m\u001b[0m\n\u001b[0;31m    for i in range(0,2*n,2):\u001b[0m\n\u001b[0m                           ^\u001b[0m\n\u001b[0;31mSyntaxError\u001b[0m\u001b[0;31m:\u001b[0m invalid syntax\n"
     ]
    }
   ],
   "source": [
    "\n",
    "#print(Lps)\n",
    "#Revisar: Los 5 primeros salen bien pero el resto no\n",
    "for k in range(nptos):\n",
    "    pmeasured=np.array(\n",
    "    pdot=-np.dot(Lbar,pmeasured)\n",
    "    for i in range(0,2*n,2):\n",
    "        xdot,ydot,thetadot=rob.integrator_point_model(pdot[i],pdot[i+1])\n",
    "        p[i]+=dt*xdot\n",
    "        p[i+1]+=dt*ydot\n",
    "    posiciones[:,k]=p[:]\n",
    "    t+=dt\n",
    "print(posiciones[:,k])\n",
    "colors_f=['bo','go','ro','co','yo','mo','ko','bo','go']\n",
    "colors_i=['bx','gx','rx','cx','yx','mx','kx','bx','gx']\n",
    "colors_l=['b','g','r','c','y','m','k','b:','g:']\n",
    "Z=np.array([[1,2],[2,3],[3,4],[4,5],[5,6],[5,8],[8,7],[8,9]])\n",
    "j=0\n",
    "for i in range(n):\n",
    "    plt.plot(posiciones[j,0],posiciones[j+1,0],colors_i[i])\n",
    "    plt.plot(posiciones[j,nptos-1],posiciones[j+1,nptos-1],colors_f[i])\n",
    "    plt.plot(posiciones[j,:],posiciones[j+1,:],colors_l[i])\n",
    "    j=j+2\n",
    "#rpu.dibuja_grafo_2D(pi,Z)\n",
    "pfs=np.zeros([2*n,1])\n",
    "pfs[:,0]=posiciones[:,nptos-1]\n",
    "pinis=np.zeros([2*n,1])\n",
    "pinis[:,0]=posiciones[:,0]\n",
    "#print(pfs)\n",
    "pf=graf.unstack(pfs,2)\n",
    "pini=graf.unstack(pinis,2)\n",
    "#print(pf)\n",
    "rpu.dibuja_grafo_2D(pf,Z)\n",
    "rpu.dibuja_grafo_2D(pini,Z)\n",
    "plt.show()"
   ]
  },
  {
   "cell_type": "code",
   "execution_count": null,
   "id": "a255eb17-ca15-4b6d-bfb3-91489a25767c",
   "metadata": {},
   "outputs": [],
   "source": []
  }
 ],
 "metadata": {
  "kernelspec": {
   "display_name": "Python 3 (Spyder)",
   "language": "python3",
   "name": "python3"
  },
  "language_info": {
   "codemirror_mode": {
    "name": "ipython",
    "version": 3
   },
   "file_extension": ".py",
   "mimetype": "text/x-python",
   "name": "python",
   "nbconvert_exporter": "python",
   "pygments_lexer": "ipython3",
   "version": "3.9.18"
  }
 },
 "nbformat": 4,
 "nbformat_minor": 5
}
