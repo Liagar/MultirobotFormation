{
 "cells": [
  {
   "cell_type": "markdown",
   "id": "3492d36e-03ef-4b9c-98b2-58421c503357",
   "metadata": {},
   "source": [
    "# Explorando las formaciones frente a errores en la percepción\n",
    "## A partir de \"Maneuvering and robustness issues in undirecter displacemente-consensus-based formation control\" de Héctor García de Marina\n",
    "En el artículo se modelan los errores en la percepción como un error de escalado y una matriz de rotación que representan un alineado incorrecto en la medida de las posiciones.\n",
    "$$ (p_i-p_j)_{measurement}=aR(p_i-p_j)$$\n",
    "$$ a \\in \\mathcal{R}, R \\in \\mathcal{SO}(m)$$\n"
   ]
  },
  {
   "cell_type": "markdown",
   "id": "fa9e10d3-c3a1-42e4-8f96-7d72cd3f3f22",
   "metadata": {},
   "source": [
    "## Reproduciendo los resultados del artículo"
   ]
  },
  {
   "cell_type": "markdown",
   "id": "c51cff18-2c46-409e-9392-d4a7d2d5cd61",
   "metadata": {},
   "source": [
    "### Carga de módulos necesarios"
   ]
  },
  {
   "cell_type": "code",
   "execution_count": null,
   "id": "054c6665-c5c4-4527-b391-cfb1fe2fdf0e",
   "metadata": {},
   "outputs": [],
   "source": [
    "import RobotModels as rob\n",
    "import numpy as np\n",
    "import matplotlib.pyplot as plt\n",
    "import graph_utils as graf\n",
    "import time\n",
    "from matplotlib import animation\n",
    "from matplotlib.animation import FuncAnimation\n",
    "from matplotlib.animation import PillowWriter\n",
    "import robot_plot_utils as rpu"
   ]
  },
  {
   "cell_type": "markdown",
   "id": "916e2017-5235-48bc-b2fb-365d8cff8f23",
   "metadata": {},
   "source": [
    "### Formación inicial con 9 agentes\n",
    "Generación de las posiciones iniciales y el grafo.\n",
    "Generación de los factores de escala y matriz de rotación responsable de los errores de alineación"
   ]
  },
  {
   "cell_type": "code",
   "execution_count": 5,
   "id": "71e3ccd6-6161-4d43-86fc-65fe9d8c36d4",
   "metadata": {},
   "outputs": [
    {
     "name": "stdout",
     "output_type": "stream",
     "text": [
      "[[1.12496026 1.34970896 0.68734953 0.98041717 1.21226484 1.22688971\n",
      "  1.45526798 0.62776616 0.74804963]]\n",
      "[[-0.04081941 -0.15724339 -0.09701314 -0.02491326  0.08158734  0.05436008\n",
      "  -0.07359961 -0.07423069 -0.15465217]]\n"
     ]
    }
   ],
   "source": [
    "#Posiciones iniciales\n",
    "pi=np.array([[-10,-10],[-10,0],[-10 ,10],[0,10],[0,0],[0,-10],[10,-10],[10,0],[10,10]])\n",
    "p=np.zeros([2,9])\n",
    "numnodos,m=np.shape(pi)\n",
    "#Formacion\n",
    "zstar=np.array([-5,-5])\n",
    "#Grafo\n",
    "Z=np.array([[1,2],[2,3],[3,4],[4,5],[5,6],[5,8],[8,7],[8,9]])\n",
    "numarcos,m=np.shape(Z)\n",
    "# Scale factors\n",
    "var=0.5\n",
    "a = 1+2*var*np.random.rand(1,9)-var*np.ones([1,9])\n",
    "#a=np.ones([1,9])\n",
    "print(a)\n",
    "#Misalignments in radians\n",
    "rm=10*np.pi/180\n",
    "#rm=0\n",
    "r=np.zeros([1,9])\n",
    "r=2*rm*np.random.rand(1,9)-rm*np.ones([1,9])\n",
    "print(r)\n",
    "n,m= np.shape(pi)\n",
    "for i in range(n):\n",
    "    plt.plot(pi[i,0],pi[i,1],'o')\n",
    "\n",
    "rpu.dibuja_grafo_2D(pi,Z)"
   ]
  },
  {
   "cell_type": "markdown",
   "id": "efa90e32-eee8-4c4b-a3e2-47677e7378cb",
   "metadata": {},
   "source": [
    "### Construcción de las matrices\n",
    "Construimos la matriz Dx $D_x=D_a \\otimes I_m \\dot D_R$"
   ]
  },
  {
   "cell_type": "code",
   "execution_count": 6,
   "id": "8c83947d-e3c9-4698-bdc2-e0f1faa55696",
   "metadata": {},
   "outputs": [
    {
     "name": "stdout",
     "output_type": "stream",
     "text": [
      "L: \n",
      "[[ 1. -1.  0.  0.  0.  0.  0.  0.  0.]\n",
      " [-1.  2. -1.  0.  0.  0.  0.  0.  0.]\n",
      " [ 0. -1.  2. -1.  0.  0.  0.  0.  0.]\n",
      " [ 0.  0. -1.  2. -1.  0.  0.  0.  0.]\n",
      " [ 0.  0.  0. -1.  3. -1.  0. -1.  0.]\n",
      " [ 0.  0.  0.  0. -1.  1.  0.  0.  0.]\n",
      " [ 0.  0.  0.  0.  0.  0.  1. -1.  0.]\n",
      " [ 0.  0.  0.  0. -1.  0. -1.  3. -1.]\n",
      " [ 0.  0.  0.  0.  0.  0.  0. -1.  1.]]\n"
     ]
    }
   ],
   "source": [
    "m,n=np.shape(a)\n",
    "Da=np.diag(a[0,:])\n",
    "#print(Da)\n",
    "j=0\n",
    "k=0\n",
    "DR=np.zeros([n*2,2*n])\n",
    "for i in range(0,2*n,2):\n",
    "    DR[j,i]=np.cos(r[0,k])\n",
    "    DR[j,i+1]=-np.sin(r[0,k])\n",
    "    DR[j+1,i]=np.sin(r[0,k])\n",
    "    DR[j+1,i+1]=np.cos(r[0,k])\n",
    "    j+=2\n",
    "    k+=1\n",
    "Im=np.eye(2)\n",
    "Da_bar=np.kron(Da,Im)\n",
    "i=n*4\n",
    "#print(np.shape(DR))\n",
    "#print(Dr)\n",
    "Dx=np.dot(Da_bar,DR)\n",
    "#print(np.shape(Dx))\n",
    "pesos=np.ones([numnodos,numnodos])\n",
    "L=graf.matriz_laplaciana(Z,pesos,numnodos,numarcos)\n",
    "print(\"L: \")\n",
    "print(L)\n",
    "Lbar=np.kron(L,Im)\n",
    "M=-np.dot(Dx,Lbar)"
   ]
  },
  {
   "cell_type": "markdown",
   "id": "39c3efe0-4112-40c7-b93e-e506f53496d9",
   "metadata": {},
   "source": [
    "### Ejecución del ejemplo"
   ]
  },
  {
   "cell_type": "code",
   "execution_count": 7,
   "id": "5e7b9eb7-f116-45e8-af09-6b6fb05da766",
   "metadata": {},
   "outputs": [
    {
     "name": "stdout",
     "output_type": "stream",
     "text": [
      "10000\n",
      "[-12.33665458 136.40991739 -12.66134903 146.69179019 -13.0900915\n",
      " 158.13638704   2.30408258 158.80128352   7.8249785  150.6211132\n",
      "   7.22538434 141.20783046  22.8721008  144.53150621  22.36074281\n",
      " 152.46716737  20.48386646 163.57733046]\n"
     ]
    }
   ],
   "source": [
    "p=np.zeros([2*n,1])\n",
    "#print(np.shape(p))\n",
    "rm=20\n",
    "pstar=graf.stack(pi)\n",
    "t=0\n",
    "tf=100\n",
    "dt=0.01\n",
    "nptos=(int)((tf-t)/dt)\n",
    "print(nptos)\n",
    "fig2 =plt.figure()\n",
    "p=2*rm*np.random.rand(2*n)-rm*np.ones(2*n)\n",
    "posiciones=np.zeros([2*n , nptos])\n",
    "k=0\n",
    "Lps=np.dot(Lbar,pstar)\n",
    "#print(Lps)\n",
    "#Revisar: Los 5 primeros salen bien pero el resto no\n",
    "for k in range(nptos):\n",
    "    pdot=np.dot(M,p)+Lps\n",
    "    for i in range(0,2*n,2):\n",
    "        xdot,ydot,thetadot=rob.integrator_point_model(pdot[i],pdot[i+1])\n",
    "        p[i]+=dt*xdot\n",
    "        p[i+1]+=dt*ydot\n",
    "    posiciones[:,k]=p[:]\n",
    "    t+=dt\n",
    "print(posiciones[:,k])\n",
    "colors_f=['bo','go','ro','co','yo','mo','ko','bo','go']\n",
    "colors_i=['bx','gx','rx','cx','yx','mx','kx','bx','gx']\n",
    "colors_l=['b','g','r','c','y','m','k','b:','g:']\n",
    "Z=np.array([[1,2],[2,3],[3,4],[4,5],[5,6],[5,8],[8,7],[8,9]])\n",
    "j=0\n",
    "for i in range(n):\n",
    "    plt.plot(posiciones[j,0],posiciones[j+1,0],colors_i[i])\n",
    "    plt.plot(posiciones[j,nptos-1],posiciones[j+1,nptos-1],colors_f[i])\n",
    "    plt.plot(posiciones[j,:],posiciones[j+1,:],colors_l[i])\n",
    "    j=j+2\n",
    "#rpu.dibuja_grafo_2D(pi,Z)\n",
    "pfs=np.zeros([2*n,1])\n",
    "pfs[:,0]=posiciones[:,nptos-1]\n",
    "pinis=np.zeros([2*n,1])\n",
    "pinis[:,0]=posiciones[:,0]\n",
    "#print(pfs)\n",
    "pf=graf.unstack(pfs,2)\n",
    "pini=graf.unstack(pinis,2)\n",
    "#print(pf)\n",
    "rpu.dibuja_grafo_2D(pf,Z)\n",
    "rpu.dibuja_grafo_2D(pini,Z)\n",
    "plt.show()"
   ]
  },
  {
   "cell_type": "markdown",
   "id": "fc21467c-fa2d-430d-b757-e9c8b7cb3f71",
   "metadata": {},
   "source": [
    "### Bias\n",
    "Voy a sustituir el parámetro de escala y la matriz de rotación por un bias \n",
    "$$(p_i-p_j)_{measurement}=(p_i-p_j-b_{ij})$$\n",
    "Los bias se pueden agrupar en una matriz que no tiene por qué ser simétrica\n",
    "$$B \\in \\mathcal{R}^{nxn}$$\n",
    "siendo n el número de agentes\n",
    "1. Voy a generar una matriz aleatoria $B_1 \\in \\mathcal{R}^{nxn}$ con elementos $b_{ij}=0$\n",
    "2.  Asigno un valor aleatorio entre $[0,1]$ a los elementos conectados $ b_{ij}\\neq 0$ si $\\exists \\hspace{1cm} Z(p)=(i,j) \\hspace{1cm} \\text{or} \\hspace{1cm} Z(p)=(j,i)$"
   ]
  },
  {
   "cell_type": "code",
   "execution_count": 13,
   "id": "2fd7a115-82f9-4647-aee4-b055b6654244",
   "metadata": {},
   "outputs": [
    {
     "name": "stdout",
     "output_type": "stream",
     "text": [
      "[[0.         0.14385489 0.         0.         0.         0.\n",
      "  0.         0.         0.        ]\n",
      " [0.36515934 0.         0.89632826 0.         0.         0.\n",
      "  0.         0.         0.        ]\n",
      " [0.         0.50480355 0.         0.01189135 0.         0.\n",
      "  0.         0.         0.        ]\n",
      " [0.         0.         0.30962392 0.         0.64460114 0.\n",
      "  0.         0.         0.        ]\n",
      " [0.         0.         0.         0.32244715 0.         0.69544283\n",
      "  0.         0.88188579 0.        ]\n",
      " [0.         0.         0.         0.         0.95929446 0.\n",
      "  0.         0.         0.        ]\n",
      " [0.         0.         0.         0.         0.         0.\n",
      "  0.         0.11575197 0.        ]\n",
      " [0.         0.         0.         0.         0.23227841 0.\n",
      "  0.02416318 0.         0.93320209]\n",
      " [0.         0.         0.         0.         0.         0.\n",
      "  0.         0.76677428 0.        ]]\n"
     ]
    },
    {
     "name": "stderr",
     "output_type": "stream",
     "text": [
      "/tmp/ipykernel_15764/3840394568.py:6: DeprecationWarning: Conversion of an array with ndim > 0 to a scalar is deprecated, and will error in future. Ensure you extract a single element from your array before performing this operation. (Deprecated NumPy 1.25.)\n",
      "  b[i-1,j-1]=np.random.rand(1,1)\n",
      "/tmp/ipykernel_15764/3840394568.py:7: DeprecationWarning: Conversion of an array with ndim > 0 to a scalar is deprecated, and will error in future. Ensure you extract a single element from your array before performing this operation. (Deprecated NumPy 1.25.)\n",
      "  b[j-1,i-1]=np.random.rand(1,1)\n"
     ]
    }
   ],
   "source": [
    "#Z=np.array([[1,2],[2,3],[3,4],[4,5],[5,6],[5,8],[8,7],[8,9]])\n",
    "b=np.zeros([numnodos,numnodos])\n",
    "for k in range(numarcos):\n",
    "    i=Z[k,0]\n",
    "    j=Z[k,1]\n",
    "    b[i-1,j-1]=np.random.rand(1,1)\n",
    "    b[j-1,i-1]=np.random.rand(1,1)\n",
    "print(b)\n",
    "    "
   ]
  },
  {
   "cell_type": "markdown",
   "id": "8826b9a3-d156-4383-bdfc-2a158f7f86e5",
   "metadata": {},
   "source": [
    "Pruebo a ejecutar a ver el efecto"
   ]
  },
  {
   "cell_type": "code",
   "execution_count": null,
   "id": "2012c58d-3887-46be-a1e0-c2dd60ee0f49",
   "metadata": {},
   "outputs": [],
   "source": [
    "p=np.zeros([2*n,1])\n",
    "#print(np.shape(p))\n",
    "rm=20\n",
    "pstar=graf.stack(pi)\n",
    "t=0\n",
    "tf=100\n",
    "dt=0.01\n",
    "nptos=(int)((tf-t)/dt)\n",
    "print(nptos)\n",
    "fig2 =plt.figure()\n",
    "p=2*rm*np.random.rand(2*n)-rm*np.ones(2*n)\n",
    "posiciones=np.zeros([2*n , nptos])\n",
    "k=0\n",
    "Lps=np.dot(Lbar,pstar)\n",
    "#print(Lps)\n",
    "#Revisar: Los 5 primeros salen bien pero el resto no\n",
    "for k in range(nptos):\n",
    "    pdot=np.dot(M,p)+Lps\n",
    "    for i in range(0,2*n,2):\n",
    "        xdot,ydot,thetadot=rob.integrator_point_model(pdot[i],pdot[i+1])\n",
    "        p[i]+=dt*xdot\n",
    "        p[i+1]+=dt*ydot\n",
    "    posiciones[:,k]=p[:]\n",
    "    t+=dt\n",
    "print(posiciones[:,k])\n",
    "colors_f=['bo','go','ro','co','yo','mo','ko','bo','go']\n",
    "colors_i=['bx','gx','rx','cx','yx','mx','kx','bx','gx']\n",
    "colors_l=['b','g','r','c','y','m','k','b:','g:']\n",
    "Z=np.array([[1,2],[2,3],[3,4],[4,5],[5,6],[5,8],[8,7],[8,9]])\n",
    "j=0\n",
    "for i in range(n):\n",
    "    plt.plot(posiciones[j,0],posiciones[j+1,0],colors_i[i])\n",
    "    plt.plot(posiciones[j,nptos-1],posiciones[j+1,nptos-1],colors_f[i])\n",
    "    plt.plot(posiciones[j,:],posiciones[j+1,:],colors_l[i])\n",
    "    j=j+2\n",
    "#rpu.dibuja_grafo_2D(pi,Z)\n",
    "pfs=np.zeros([2*n,1])\n",
    "pfs[:,0]=posiciones[:,nptos-1]\n",
    "pinis=np.zeros([2*n,1])\n",
    "pinis[:,0]=posiciones[:,0]\n",
    "#print(pfs)\n",
    "pf=graf.unstack(pfs,2)\n",
    "pini=graf.unstack(pinis,2)\n",
    "#print(pf)\n",
    "rpu.dibuja_grafo_2D(pf,Z)\n",
    "rpu.dibuja_grafo_2D(pini,Z)\n",
    "plt.show()"
   ]
  }
 ],
 "metadata": {
  "kernelspec": {
   "display_name": "Python 3 (Spyder)",
   "language": "python3",
   "name": "python3"
  },
  "language_info": {
   "codemirror_mode": {
    "name": "ipython",
    "version": 3
   },
   "file_extension": ".py",
   "mimetype": "text/x-python",
   "name": "python",
   "nbconvert_exporter": "python",
   "pygments_lexer": "ipython3",
   "version": "3.9.18"
  }
 },
 "nbformat": 4,
 "nbformat_minor": 5
}
